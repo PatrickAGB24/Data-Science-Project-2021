{
  "nbformat": 4,
  "nbformat_minor": 0,
  "metadata": {
    "kernelspec": {
      "display_name": "Python 3",
      "language": "python",
      "name": "python3"
    },
    "language_info": {
      "codemirror_mode": {
        "name": "ipython",
        "version": 3
      },
      "file_extension": ".py",
      "mimetype": "text/x-python",
      "name": "python",
      "nbconvert_exporter": "python",
      "pygments_lexer": "ipython3",
      "version": "3.7.1"
    },
    "colab": {
      "provenance": [],
      "toc_visible": true
    }
  },
  "cells": [
    {
      "cell_type": "code",
      "metadata": {
        "id": "YXYAmiF9YL_g"
      },
      "source": [
        "import numpy as np\n",
        "import pandas as pd\n",
        "import matplotlib.pyplot as plt\n",
        "from sklearn.model_selection import train_test_split\n",
        "from sklearn.tree import DecisionTreeClassifier\n",
        "from sklearn.ensemble import RandomForestClassifier"
      ],
      "execution_count": null,
      "outputs": []
    },
    {
      "cell_type": "code",
      "metadata": {
        "id": "2CiTItYnYL_k"
      },
      "source": [],
      "execution_count": null,
      "outputs": []
    },
    {
      "cell_type": "code",
      "metadata": {
        "id": "ssHXvyCNYL_l"
      },
      "source": [
        "df = pd.read_csv(\"creditcard.csv\")"
      ],
      "execution_count": null,
      "outputs": []
    },
    {
      "cell_type": "code",
      "metadata": {
        "id": "BWjzIVhnYL_m"
      },
      "source": [
        "y = df.Class\n",
        "x = df.drop('Class',axis=1)\n",
        "x2 = x.drop('Time',axis=1)\n"
      ],
      "execution_count": null,
      "outputs": []
    },
    {
      "cell_type": "code",
      "metadata": {
        "colab": {
          "base_uri": "https://localhost:8080/",
          "height": 437
        },
        "id": "lcgVG3dEYL_n",
        "outputId": "ef7d3a4d-d228-4f0e-c5e3-44228041b5e6"
      },
      "source": [
        "x2"
      ],
      "execution_count": null,
      "outputs": [
        {
          "output_type": "execute_result",
          "data": {
            "text/html": [
              "<div>\n",
              "<style scoped>\n",
              "    .dataframe tbody tr th:only-of-type {\n",
              "        vertical-align: middle;\n",
              "    }\n",
              "\n",
              "    .dataframe tbody tr th {\n",
              "        vertical-align: top;\n",
              "    }\n",
              "\n",
              "    .dataframe thead th {\n",
              "        text-align: right;\n",
              "    }\n",
              "</style>\n",
              "<table border=\"1\" class=\"dataframe\">\n",
              "  <thead>\n",
              "    <tr style=\"text-align: right;\">\n",
              "      <th></th>\n",
              "      <th>V1</th>\n",
              "      <th>V2</th>\n",
              "      <th>V3</th>\n",
              "      <th>V4</th>\n",
              "      <th>V5</th>\n",
              "      <th>V6</th>\n",
              "      <th>V7</th>\n",
              "      <th>V8</th>\n",
              "      <th>V9</th>\n",
              "      <th>V10</th>\n",
              "      <th>V11</th>\n",
              "      <th>V12</th>\n",
              "      <th>V13</th>\n",
              "      <th>V14</th>\n",
              "      <th>V15</th>\n",
              "      <th>V16</th>\n",
              "      <th>V17</th>\n",
              "      <th>V18</th>\n",
              "      <th>V19</th>\n",
              "      <th>V20</th>\n",
              "      <th>V21</th>\n",
              "      <th>V22</th>\n",
              "      <th>V23</th>\n",
              "      <th>V24</th>\n",
              "      <th>V25</th>\n",
              "      <th>V26</th>\n",
              "      <th>V27</th>\n",
              "      <th>V28</th>\n",
              "      <th>Amount</th>\n",
              "    </tr>\n",
              "  </thead>\n",
              "  <tbody>\n",
              "    <tr>\n",
              "      <th>0</th>\n",
              "      <td>-1.359807</td>\n",
              "      <td>-0.072781</td>\n",
              "      <td>2.536347</td>\n",
              "      <td>1.378155</td>\n",
              "      <td>-0.338321</td>\n",
              "      <td>0.462388</td>\n",
              "      <td>0.239599</td>\n",
              "      <td>0.098698</td>\n",
              "      <td>0.363787</td>\n",
              "      <td>0.090794</td>\n",
              "      <td>-0.551600</td>\n",
              "      <td>-0.617801</td>\n",
              "      <td>-0.991390</td>\n",
              "      <td>-0.311169</td>\n",
              "      <td>1.468177</td>\n",
              "      <td>-0.470401</td>\n",
              "      <td>0.207971</td>\n",
              "      <td>0.025791</td>\n",
              "      <td>0.403993</td>\n",
              "      <td>0.251412</td>\n",
              "      <td>-0.018307</td>\n",
              "      <td>0.277838</td>\n",
              "      <td>-0.110474</td>\n",
              "      <td>0.066928</td>\n",
              "      <td>0.128539</td>\n",
              "      <td>-0.189115</td>\n",
              "      <td>0.133558</td>\n",
              "      <td>-0.021053</td>\n",
              "      <td>149.62</td>\n",
              "    </tr>\n",
              "    <tr>\n",
              "      <th>1</th>\n",
              "      <td>1.191857</td>\n",
              "      <td>0.266151</td>\n",
              "      <td>0.166480</td>\n",
              "      <td>0.448154</td>\n",
              "      <td>0.060018</td>\n",
              "      <td>-0.082361</td>\n",
              "      <td>-0.078803</td>\n",
              "      <td>0.085102</td>\n",
              "      <td>-0.255425</td>\n",
              "      <td>-0.166974</td>\n",
              "      <td>1.612727</td>\n",
              "      <td>1.065235</td>\n",
              "      <td>0.489095</td>\n",
              "      <td>-0.143772</td>\n",
              "      <td>0.635558</td>\n",
              "      <td>0.463917</td>\n",
              "      <td>-0.114805</td>\n",
              "      <td>-0.183361</td>\n",
              "      <td>-0.145783</td>\n",
              "      <td>-0.069083</td>\n",
              "      <td>-0.225775</td>\n",
              "      <td>-0.638672</td>\n",
              "      <td>0.101288</td>\n",
              "      <td>-0.339846</td>\n",
              "      <td>0.167170</td>\n",
              "      <td>0.125895</td>\n",
              "      <td>-0.008983</td>\n",
              "      <td>0.014724</td>\n",
              "      <td>2.69</td>\n",
              "    </tr>\n",
              "    <tr>\n",
              "      <th>2</th>\n",
              "      <td>-1.358354</td>\n",
              "      <td>-1.340163</td>\n",
              "      <td>1.773209</td>\n",
              "      <td>0.379780</td>\n",
              "      <td>-0.503198</td>\n",
              "      <td>1.800499</td>\n",
              "      <td>0.791461</td>\n",
              "      <td>0.247676</td>\n",
              "      <td>-1.514654</td>\n",
              "      <td>0.207643</td>\n",
              "      <td>0.624501</td>\n",
              "      <td>0.066084</td>\n",
              "      <td>0.717293</td>\n",
              "      <td>-0.165946</td>\n",
              "      <td>2.345865</td>\n",
              "      <td>-2.890083</td>\n",
              "      <td>1.109969</td>\n",
              "      <td>-0.121359</td>\n",
              "      <td>-2.261857</td>\n",
              "      <td>0.524980</td>\n",
              "      <td>0.247998</td>\n",
              "      <td>0.771679</td>\n",
              "      <td>0.909412</td>\n",
              "      <td>-0.689281</td>\n",
              "      <td>-0.327642</td>\n",
              "      <td>-0.139097</td>\n",
              "      <td>-0.055353</td>\n",
              "      <td>-0.059752</td>\n",
              "      <td>378.66</td>\n",
              "    </tr>\n",
              "    <tr>\n",
              "      <th>3</th>\n",
              "      <td>-0.966272</td>\n",
              "      <td>-0.185226</td>\n",
              "      <td>1.792993</td>\n",
              "      <td>-0.863291</td>\n",
              "      <td>-0.010309</td>\n",
              "      <td>1.247203</td>\n",
              "      <td>0.237609</td>\n",
              "      <td>0.377436</td>\n",
              "      <td>-1.387024</td>\n",
              "      <td>-0.054952</td>\n",
              "      <td>-0.226487</td>\n",
              "      <td>0.178228</td>\n",
              "      <td>0.507757</td>\n",
              "      <td>-0.287924</td>\n",
              "      <td>-0.631418</td>\n",
              "      <td>-1.059647</td>\n",
              "      <td>-0.684093</td>\n",
              "      <td>1.965775</td>\n",
              "      <td>-1.232622</td>\n",
              "      <td>-0.208038</td>\n",
              "      <td>-0.108300</td>\n",
              "      <td>0.005274</td>\n",
              "      <td>-0.190321</td>\n",
              "      <td>-1.175575</td>\n",
              "      <td>0.647376</td>\n",
              "      <td>-0.221929</td>\n",
              "      <td>0.062723</td>\n",
              "      <td>0.061458</td>\n",
              "      <td>123.50</td>\n",
              "    </tr>\n",
              "    <tr>\n",
              "      <th>4</th>\n",
              "      <td>-1.158233</td>\n",
              "      <td>0.877737</td>\n",
              "      <td>1.548718</td>\n",
              "      <td>0.403034</td>\n",
              "      <td>-0.407193</td>\n",
              "      <td>0.095921</td>\n",
              "      <td>0.592941</td>\n",
              "      <td>-0.270533</td>\n",
              "      <td>0.817739</td>\n",
              "      <td>0.753074</td>\n",
              "      <td>-0.822843</td>\n",
              "      <td>0.538196</td>\n",
              "      <td>1.345852</td>\n",
              "      <td>-1.119670</td>\n",
              "      <td>0.175121</td>\n",
              "      <td>-0.451449</td>\n",
              "      <td>-0.237033</td>\n",
              "      <td>-0.038195</td>\n",
              "      <td>0.803487</td>\n",
              "      <td>0.408542</td>\n",
              "      <td>-0.009431</td>\n",
              "      <td>0.798278</td>\n",
              "      <td>-0.137458</td>\n",
              "      <td>0.141267</td>\n",
              "      <td>-0.206010</td>\n",
              "      <td>0.502292</td>\n",
              "      <td>0.219422</td>\n",
              "      <td>0.215153</td>\n",
              "      <td>69.99</td>\n",
              "    </tr>\n",
              "    <tr>\n",
              "      <th>...</th>\n",
              "      <td>...</td>\n",
              "      <td>...</td>\n",
              "      <td>...</td>\n",
              "      <td>...</td>\n",
              "      <td>...</td>\n",
              "      <td>...</td>\n",
              "      <td>...</td>\n",
              "      <td>...</td>\n",
              "      <td>...</td>\n",
              "      <td>...</td>\n",
              "      <td>...</td>\n",
              "      <td>...</td>\n",
              "      <td>...</td>\n",
              "      <td>...</td>\n",
              "      <td>...</td>\n",
              "      <td>...</td>\n",
              "      <td>...</td>\n",
              "      <td>...</td>\n",
              "      <td>...</td>\n",
              "      <td>...</td>\n",
              "      <td>...</td>\n",
              "      <td>...</td>\n",
              "      <td>...</td>\n",
              "      <td>...</td>\n",
              "      <td>...</td>\n",
              "      <td>...</td>\n",
              "      <td>...</td>\n",
              "      <td>...</td>\n",
              "      <td>...</td>\n",
              "    </tr>\n",
              "    <tr>\n",
              "      <th>284802</th>\n",
              "      <td>-11.881118</td>\n",
              "      <td>10.071785</td>\n",
              "      <td>-9.834783</td>\n",
              "      <td>-2.066656</td>\n",
              "      <td>-5.364473</td>\n",
              "      <td>-2.606837</td>\n",
              "      <td>-4.918215</td>\n",
              "      <td>7.305334</td>\n",
              "      <td>1.914428</td>\n",
              "      <td>4.356170</td>\n",
              "      <td>-1.593105</td>\n",
              "      <td>2.711941</td>\n",
              "      <td>-0.689256</td>\n",
              "      <td>4.626942</td>\n",
              "      <td>-0.924459</td>\n",
              "      <td>1.107641</td>\n",
              "      <td>1.991691</td>\n",
              "      <td>0.510632</td>\n",
              "      <td>-0.682920</td>\n",
              "      <td>1.475829</td>\n",
              "      <td>0.213454</td>\n",
              "      <td>0.111864</td>\n",
              "      <td>1.014480</td>\n",
              "      <td>-0.509348</td>\n",
              "      <td>1.436807</td>\n",
              "      <td>0.250034</td>\n",
              "      <td>0.943651</td>\n",
              "      <td>0.823731</td>\n",
              "      <td>0.77</td>\n",
              "    </tr>\n",
              "    <tr>\n",
              "      <th>284803</th>\n",
              "      <td>-0.732789</td>\n",
              "      <td>-0.055080</td>\n",
              "      <td>2.035030</td>\n",
              "      <td>-0.738589</td>\n",
              "      <td>0.868229</td>\n",
              "      <td>1.058415</td>\n",
              "      <td>0.024330</td>\n",
              "      <td>0.294869</td>\n",
              "      <td>0.584800</td>\n",
              "      <td>-0.975926</td>\n",
              "      <td>-0.150189</td>\n",
              "      <td>0.915802</td>\n",
              "      <td>1.214756</td>\n",
              "      <td>-0.675143</td>\n",
              "      <td>1.164931</td>\n",
              "      <td>-0.711757</td>\n",
              "      <td>-0.025693</td>\n",
              "      <td>-1.221179</td>\n",
              "      <td>-1.545556</td>\n",
              "      <td>0.059616</td>\n",
              "      <td>0.214205</td>\n",
              "      <td>0.924384</td>\n",
              "      <td>0.012463</td>\n",
              "      <td>-1.016226</td>\n",
              "      <td>-0.606624</td>\n",
              "      <td>-0.395255</td>\n",
              "      <td>0.068472</td>\n",
              "      <td>-0.053527</td>\n",
              "      <td>24.79</td>\n",
              "    </tr>\n",
              "    <tr>\n",
              "      <th>284804</th>\n",
              "      <td>1.919565</td>\n",
              "      <td>-0.301254</td>\n",
              "      <td>-3.249640</td>\n",
              "      <td>-0.557828</td>\n",
              "      <td>2.630515</td>\n",
              "      <td>3.031260</td>\n",
              "      <td>-0.296827</td>\n",
              "      <td>0.708417</td>\n",
              "      <td>0.432454</td>\n",
              "      <td>-0.484782</td>\n",
              "      <td>0.411614</td>\n",
              "      <td>0.063119</td>\n",
              "      <td>-0.183699</td>\n",
              "      <td>-0.510602</td>\n",
              "      <td>1.329284</td>\n",
              "      <td>0.140716</td>\n",
              "      <td>0.313502</td>\n",
              "      <td>0.395652</td>\n",
              "      <td>-0.577252</td>\n",
              "      <td>0.001396</td>\n",
              "      <td>0.232045</td>\n",
              "      <td>0.578229</td>\n",
              "      <td>-0.037501</td>\n",
              "      <td>0.640134</td>\n",
              "      <td>0.265745</td>\n",
              "      <td>-0.087371</td>\n",
              "      <td>0.004455</td>\n",
              "      <td>-0.026561</td>\n",
              "      <td>67.88</td>\n",
              "    </tr>\n",
              "    <tr>\n",
              "      <th>284805</th>\n",
              "      <td>-0.240440</td>\n",
              "      <td>0.530483</td>\n",
              "      <td>0.702510</td>\n",
              "      <td>0.689799</td>\n",
              "      <td>-0.377961</td>\n",
              "      <td>0.623708</td>\n",
              "      <td>-0.686180</td>\n",
              "      <td>0.679145</td>\n",
              "      <td>0.392087</td>\n",
              "      <td>-0.399126</td>\n",
              "      <td>-1.933849</td>\n",
              "      <td>-0.962886</td>\n",
              "      <td>-1.042082</td>\n",
              "      <td>0.449624</td>\n",
              "      <td>1.962563</td>\n",
              "      <td>-0.608577</td>\n",
              "      <td>0.509928</td>\n",
              "      <td>1.113981</td>\n",
              "      <td>2.897849</td>\n",
              "      <td>0.127434</td>\n",
              "      <td>0.265245</td>\n",
              "      <td>0.800049</td>\n",
              "      <td>-0.163298</td>\n",
              "      <td>0.123205</td>\n",
              "      <td>-0.569159</td>\n",
              "      <td>0.546668</td>\n",
              "      <td>0.108821</td>\n",
              "      <td>0.104533</td>\n",
              "      <td>10.00</td>\n",
              "    </tr>\n",
              "    <tr>\n",
              "      <th>284806</th>\n",
              "      <td>-0.533413</td>\n",
              "      <td>-0.189733</td>\n",
              "      <td>0.703337</td>\n",
              "      <td>-0.506271</td>\n",
              "      <td>-0.012546</td>\n",
              "      <td>-0.649617</td>\n",
              "      <td>1.577006</td>\n",
              "      <td>-0.414650</td>\n",
              "      <td>0.486180</td>\n",
              "      <td>-0.915427</td>\n",
              "      <td>-1.040458</td>\n",
              "      <td>-0.031513</td>\n",
              "      <td>-0.188093</td>\n",
              "      <td>-0.084316</td>\n",
              "      <td>0.041333</td>\n",
              "      <td>-0.302620</td>\n",
              "      <td>-0.660377</td>\n",
              "      <td>0.167430</td>\n",
              "      <td>-0.256117</td>\n",
              "      <td>0.382948</td>\n",
              "      <td>0.261057</td>\n",
              "      <td>0.643078</td>\n",
              "      <td>0.376777</td>\n",
              "      <td>0.008797</td>\n",
              "      <td>-0.473649</td>\n",
              "      <td>-0.818267</td>\n",
              "      <td>-0.002415</td>\n",
              "      <td>0.013649</td>\n",
              "      <td>217.00</td>\n",
              "    </tr>\n",
              "  </tbody>\n",
              "</table>\n",
              "<p>284807 rows × 29 columns</p>\n",
              "</div>"
            ],
            "text/plain": [
              "               V1         V2        V3  ...       V27       V28  Amount\n",
              "0       -1.359807  -0.072781  2.536347  ...  0.133558 -0.021053  149.62\n",
              "1        1.191857   0.266151  0.166480  ... -0.008983  0.014724    2.69\n",
              "2       -1.358354  -1.340163  1.773209  ... -0.055353 -0.059752  378.66\n",
              "3       -0.966272  -0.185226  1.792993  ...  0.062723  0.061458  123.50\n",
              "4       -1.158233   0.877737  1.548718  ...  0.219422  0.215153   69.99\n",
              "...           ...        ...       ...  ...       ...       ...     ...\n",
              "284802 -11.881118  10.071785 -9.834783  ...  0.943651  0.823731    0.77\n",
              "284803  -0.732789  -0.055080  2.035030  ...  0.068472 -0.053527   24.79\n",
              "284804   1.919565  -0.301254 -3.249640  ...  0.004455 -0.026561   67.88\n",
              "284805  -0.240440   0.530483  0.702510  ...  0.108821  0.104533   10.00\n",
              "284806  -0.533413  -0.189733  0.703337  ... -0.002415  0.013649  217.00\n",
              "\n",
              "[284807 rows x 29 columns]"
            ]
          },
          "metadata": {
            "tags": []
          },
          "execution_count": 5
        }
      ]
    },
    {
      "cell_type": "code",
      "metadata": {
        "id": "6rA-fmNsYL_p",
        "colab": {
          "base_uri": "https://localhost:8080/"
        },
        "outputId": "5df6e826-38af-40b0-95f5-41314dfe45b8"
      },
      "source": [
        "x_train, x_test, y_train, y_test = train_test_split(x, y, test_size= 0.4)\n",
        "DT = DecisionTreeClassifier()\n",
        "RF = RandomForestClassifier()\n",
        "DT.fit(x_train,y_train)\n",
        "RF.fit(x_train,y_train)"
      ],
      "execution_count": null,
      "outputs": [
        {
          "output_type": "execute_result",
          "data": {
            "text/plain": [
              "RandomForestClassifier(bootstrap=True, ccp_alpha=0.0, class_weight=None,\n",
              "                       criterion='gini', max_depth=None, max_features='auto',\n",
              "                       max_leaf_nodes=None, max_samples=None,\n",
              "                       min_impurity_decrease=0.0, min_impurity_split=None,\n",
              "                       min_samples_leaf=1, min_samples_split=2,\n",
              "                       min_weight_fraction_leaf=0.0, n_estimators=100,\n",
              "                       n_jobs=None, oob_score=False, random_state=None,\n",
              "                       verbose=0, warm_start=False)"
            ]
          },
          "metadata": {
            "tags": []
          },
          "execution_count": 77
        }
      ]
    },
    {
      "cell_type": "code",
      "metadata": {
        "id": "ihSTOT1T7z5h"
      },
      "source": [
        "x_train, x_test, y_train, y_test = train_test_split(x2, y, test_size= 0.4)\n"
      ],
      "execution_count": null,
      "outputs": []
    },
    {
      "cell_type": "code",
      "metadata": {
        "colab": {
          "base_uri": "https://localhost:8080/"
        },
        "id": "AC4vXZsmYL_q",
        "outputId": "59b44b0d-cf84-41cf-ec06-f1ec0c6931f3"
      },
      "source": [
        "x_train, x_test, y_train, y_test = train_test_split(x2, y, test_size= 0.4)\n",
        "DT = DecisionTreeClassifier()\n",
        "RF = RandomForestClassifier()\n",
        "DT.fit(x_train,y_train)\n",
        "RF.fit(x_train,y_train)"
      ],
      "execution_count": null,
      "outputs": [
        {
          "output_type": "execute_result",
          "data": {
            "text/plain": [
              "RandomForestClassifier(bootstrap=True, ccp_alpha=0.0, class_weight=None,\n",
              "                       criterion='gini', max_depth=None, max_features='auto',\n",
              "                       max_leaf_nodes=None, max_samples=None,\n",
              "                       min_impurity_decrease=0.0, min_impurity_split=None,\n",
              "                       min_samples_leaf=1, min_samples_split=2,\n",
              "                       min_weight_fraction_leaf=0.0, n_estimators=100,\n",
              "                       n_jobs=None, oob_score=False, random_state=None,\n",
              "                       verbose=0, warm_start=False)"
            ]
          },
          "metadata": {
            "tags": []
          },
          "execution_count": 7
        }
      ]
    },
    {
      "cell_type": "code",
      "metadata": {
        "colab": {
          "base_uri": "https://localhost:8080/",
          "height": 1000
        },
        "id": "3jBmfeBBYL_r",
        "outputId": "3d270827-69ac-4fdf-e45f-bfc7ab8f90c8"
      },
      "source": [
        "from sklearn import tree\n",
        "tree.plot_tree(DT)"
      ],
      "execution_count": null,
      "outputs": [
        {
          "output_type": "execute_result",
          "data": {
            "text/plain": [
              "[Text(83.13685408396097, 213.0912, 'X[16] <= -2.769\\ngini = 0.003\\nsamples = 170884\\nvalue = [170612, 272]'),\n",
              " Text(61.21375728119319, 204.3936, 'X[11] <= -2.18\\ngini = 0.383\\nsamples = 244\\nvalue = [63, 181]'),\n",
              " Text(46.10906392609357, 195.696, 'X[25] <= -0.225\\ngini = 0.312\\nsamples = 222\\nvalue = [43, 179]'),\n",
              " Text(25.439483545430935, 186.9984, 'X[26] <= 1.087\\ngini = 0.488\\nsamples = 78\\nvalue = [33, 45]'),\n",
              " Text(12.719741772715468, 178.3008, 'X[13] <= -3.914\\ngini = 0.355\\nsamples = 52\\nvalue = [12, 40]'),\n",
              " Text(6.359870886357734, 169.60320000000002, 'X[1] <= -2.797\\ngini = 0.061\\nsamples = 32\\nvalue = [1, 31]'),\n",
              " Text(3.179935443178867, 160.9056, 'gini = 0.0\\nsamples = 1\\nvalue = [1, 0]'),\n",
              " Text(9.539806329536601, 160.9056, 'gini = 0.0\\nsamples = 31\\nvalue = [0, 31]'),\n",
              " Text(19.079612659073202, 169.60320000000002, 'X[24] <= 0.454\\ngini = 0.495\\nsamples = 20\\nvalue = [11, 9]'),\n",
              " Text(15.899677215894334, 160.9056, 'X[11] <= -2.894\\ngini = 0.375\\nsamples = 12\\nvalue = [3, 9]'),\n",
              " Text(12.719741772715468, 152.208, 'gini = 0.0\\nsamples = 8\\nvalue = [0, 8]'),\n",
              " Text(19.079612659073202, 152.208, 'X[12] <= -1.426\\ngini = 0.375\\nsamples = 4\\nvalue = [3, 1]'),\n",
              " Text(15.899677215894334, 143.5104, 'gini = 0.0\\nsamples = 1\\nvalue = [0, 1]'),\n",
              " Text(22.25954810225207, 143.5104, 'gini = 0.0\\nsamples = 3\\nvalue = [3, 0]'),\n",
              " Text(22.25954810225207, 160.9056, 'gini = 0.0\\nsamples = 8\\nvalue = [8, 0]'),\n",
              " Text(38.159225318146405, 178.3008, 'X[23] <= 0.105\\ngini = 0.311\\nsamples = 26\\nvalue = [21, 5]'),\n",
              " Text(31.799354431788668, 169.60320000000002, 'X[18] <= 0.592\\ngini = 0.091\\nsamples = 21\\nvalue = [20, 1]'),\n",
              " Text(28.6194189886098, 160.9056, 'gini = 0.0\\nsamples = 1\\nvalue = [0, 1]'),\n",
              " Text(34.979289874967535, 160.9056, 'gini = 0.0\\nsamples = 20\\nvalue = [20, 0]'),\n",
              " Text(44.51909620450414, 169.60320000000002, 'X[19] <= 1.693\\ngini = 0.32\\nsamples = 5\\nvalue = [1, 4]'),\n",
              " Text(41.33916076132527, 160.9056, 'gini = 0.0\\nsamples = 4\\nvalue = [0, 4]'),\n",
              " Text(47.699031647683, 160.9056, 'gini = 0.0\\nsamples = 1\\nvalue = [1, 0]'),\n",
              " Text(66.7786443067562, 186.9984, 'X[13] <= -2.637\\ngini = 0.129\\nsamples = 144\\nvalue = [10, 134]'),\n",
              " Text(60.41877342039847, 178.3008, 'X[24] <= 2.268\\ngini = 0.071\\nsamples = 135\\nvalue = [5, 130]'),\n",
              " Text(57.2388379772196, 169.60320000000002, 'X[3] <= -0.304\\ngini = 0.058\\nsamples = 134\\nvalue = [4, 130]'),\n",
              " Text(54.05890253404074, 160.9056, 'gini = 0.0\\nsamples = 1\\nvalue = [1, 0]'),\n",
              " Text(60.41877342039847, 160.9056, 'X[0] <= 0.789\\ngini = 0.044\\nsamples = 133\\nvalue = [3, 130]'),\n",
              " Text(52.4689348124513, 152.208, 'X[27] <= 0.945\\ngini = 0.03\\nsamples = 130\\nvalue = [2, 128]'),\n",
              " Text(46.10906392609357, 143.5104, 'X[4] <= 0.377\\ngini = 0.016\\nsamples = 124\\nvalue = [1, 123]'),\n",
              " Text(42.929128482914706, 134.81279999999998, 'gini = 0.0\\nsamples = 118\\nvalue = [0, 118]'),\n",
              " Text(49.28899936927244, 134.81279999999998, 'X[4] <= 0.555\\ngini = 0.278\\nsamples = 6\\nvalue = [1, 5]'),\n",
              " Text(46.10906392609357, 126.1152, 'gini = 0.0\\nsamples = 1\\nvalue = [1, 0]'),\n",
              " Text(52.4689348124513, 126.1152, 'gini = 0.0\\nsamples = 5\\nvalue = [0, 5]'),\n",
              " Text(58.828805698809035, 143.5104, 'X[9] <= -11.175\\ngini = 0.278\\nsamples = 6\\nvalue = [1, 5]'),\n",
              " Text(55.64887025563017, 134.81279999999998, 'gini = 0.0\\nsamples = 1\\nvalue = [1, 0]'),\n",
              " Text(62.008741141987905, 134.81279999999998, 'gini = 0.0\\nsamples = 5\\nvalue = [0, 5]'),\n",
              " Text(68.36861202834564, 152.208, 'X[4] <= -1.474\\ngini = 0.444\\nsamples = 3\\nvalue = [1, 2]'),\n",
              " Text(65.18867658516677, 143.5104, 'gini = 0.0\\nsamples = 1\\nvalue = [1, 0]'),\n",
              " Text(71.5485474715245, 143.5104, 'gini = 0.0\\nsamples = 2\\nvalue = [0, 2]'),\n",
              " Text(63.598708863577336, 169.60320000000002, 'gini = 0.0\\nsamples = 1\\nvalue = [1, 0]'),\n",
              " Text(73.13851519311393, 178.3008, 'X[22] <= 0.692\\ngini = 0.494\\nsamples = 9\\nvalue = [5, 4]'),\n",
              " Text(69.95857974993507, 169.60320000000002, 'gini = 0.0\\nsamples = 5\\nvalue = [5, 0]'),\n",
              " Text(76.31845063629281, 169.60320000000002, 'gini = 0.0\\nsamples = 4\\nvalue = [0, 4]'),\n",
              " Text(76.31845063629281, 195.696, 'X[6] <= -4.179\\ngini = 0.165\\nsamples = 22\\nvalue = [20, 2]'),\n",
              " Text(73.13851519311393, 186.9984, 'gini = 0.0\\nsamples = 2\\nvalue = [0, 2]'),\n",
              " Text(79.49838607947167, 186.9984, 'gini = 0.0\\nsamples = 20\\nvalue = [20, 0]'),\n",
              " Text(105.05995088672874, 204.3936, 'X[13] <= -8.098\\ngini = 0.001\\nsamples = 170640\\nvalue = [170549, 91]'),\n",
              " Text(89.03819240900827, 195.696, 'X[9] <= 3.388\\ngini = 0.211\\nsamples = 25\\nvalue = [3, 22]'),\n",
              " Text(85.85825696582941, 186.9984, 'gini = 0.0\\nsamples = 22\\nvalue = [0, 22]'),\n",
              " Text(92.21812785218714, 186.9984, 'gini = 0.0\\nsamples = 3\\nvalue = [3, 0]'),\n",
              " Text(121.08170936444922, 195.696, 'X[13] <= -4.661\\ngini = 0.001\\nsamples = 170615\\nvalue = [170546, 69]'),\n",
              " Text(98.57799873854488, 186.9984, 'X[11] <= -3.129\\ngini = 0.219\\nsamples = 160\\nvalue = [140, 20]'),\n",
              " Text(90.6281601305977, 178.3008, 'X[15] <= 2.623\\ngini = 0.36\\nsamples = 17\\nvalue = [4, 13]'),\n",
              " Text(87.44822468741884, 169.60320000000002, 'gini = 0.0\\nsamples = 13\\nvalue = [0, 13]'),\n",
              " Text(93.80809557377657, 169.60320000000002, 'gini = 0.0\\nsamples = 4\\nvalue = [4, 0]'),\n",
              " Text(106.52783734649203, 178.3008, 'X[9] <= -1.957\\ngini = 0.093\\nsamples = 143\\nvalue = [136, 7]'),\n",
              " Text(100.16796646013431, 169.60320000000002, 'X[22] <= -0.386\\ngini = 0.459\\nsamples = 14\\nvalue = [9, 5]'),\n",
              " Text(96.98803101695545, 160.9056, 'gini = 0.0\\nsamples = 8\\nvalue = [8, 0]'),\n",
              " Text(103.34790190331317, 160.9056, 'X[3] <= 0.998\\ngini = 0.278\\nsamples = 6\\nvalue = [1, 5]'),\n",
              " Text(100.16796646013431, 152.208, 'gini = 0.0\\nsamples = 1\\nvalue = [1, 0]'),\n",
              " Text(106.52783734649203, 152.208, 'gini = 0.0\\nsamples = 5\\nvalue = [0, 5]'),\n",
              " Text(112.88770823284977, 169.60320000000002, 'X[14] <= -1.322\\ngini = 0.031\\nsamples = 129\\nvalue = [127, 2]'),\n",
              " Text(109.70777278967091, 160.9056, 'gini = 0.0\\nsamples = 1\\nvalue = [0, 1]'),\n",
              " Text(116.06764367602864, 160.9056, 'X[23] <= 0.78\\ngini = 0.016\\nsamples = 128\\nvalue = [127, 1]'),\n",
              " Text(112.88770823284977, 152.208, 'gini = 0.0\\nsamples = 126\\nvalue = [126, 0]'),\n",
              " Text(119.24757911920751, 152.208, 'X[24] <= 0.799\\ngini = 0.5\\nsamples = 2\\nvalue = [1, 1]'),\n",
              " Text(116.06764367602864, 143.5104, 'gini = 0.0\\nsamples = 1\\nvalue = [0, 1]'),\n",
              " Text(122.42751456238638, 143.5104, 'gini = 0.0\\nsamples = 1\\nvalue = [1, 0]'),\n",
              " Text(143.58541999035359, 186.9984, 'X[11] <= -4.98\\ngini = 0.001\\nsamples = 170455\\nvalue = [170406, 49]'),\n",
              " Text(125.60745000556524, 178.3008, 'X[15] <= -2.315\\ngini = 0.5\\nsamples = 2\\nvalue = [1, 1]'),\n",
              " Text(122.42751456238638, 169.60320000000002, 'gini = 0.0\\nsamples = 1\\nvalue = [1, 0]'),\n",
              " Text(128.78738544874412, 169.60320000000002, 'gini = 0.0\\nsamples = 1\\nvalue = [0, 1]'),\n",
              " Text(161.56338997514192, 178.3008, 'X[13] <= -4.242\\ngini = 0.001\\nsamples = 170453\\nvalue = [170405, 48]'),\n",
              " Text(135.14725633510184, 169.60320000000002, 'X[9] <= -1.837\\ngini = 0.073\\nsamples = 79\\nvalue = [76, 3]'),\n",
              " Text(128.78738544874412, 160.9056, 'X[27] <= 0.168\\ngini = 0.444\\nsamples = 3\\nvalue = [1, 2]'),\n",
              " Text(125.60745000556524, 152.208, 'gini = 0.0\\nsamples = 2\\nvalue = [0, 2]'),\n",
              " Text(131.96732089192298, 152.208, 'gini = 0.0\\nsamples = 1\\nvalue = [1, 0]'),\n",
              " Text(141.50712722145957, 160.9056, 'X[13] <= -4.255\\ngini = 0.026\\nsamples = 76\\nvalue = [75, 1]'),\n",
              " Text(138.3271917782807, 152.208, 'gini = 0.0\\nsamples = 75\\nvalue = [75, 0]'),\n",
              " Text(144.68706266463843, 152.208, 'gini = 0.0\\nsamples = 1\\nvalue = [0, 1]'),\n",
              " Text(187.979523615182, 169.60320000000002, 'X[22] <= -15.563\\ngini = 0.001\\nsamples = 170374\\nvalue = [170329, 45]'),\n",
              " Text(154.22686899417505, 160.9056, 'X[0] <= -1.877\\ngini = 0.117\\nsamples = 16\\nvalue = [15, 1]'),\n",
              " Text(151.0469335509962, 152.208, 'gini = 0.0\\nsamples = 15\\nvalue = [15, 0]'),\n",
              " Text(157.4068044373539, 152.208, 'gini = 0.0\\nsamples = 1\\nvalue = [0, 1]'),\n",
              " Text(221.73217823618893, 160.9056, 'X[3] <= 2.62\\ngini = 0.001\\nsamples = 170358\\nvalue = [170314, 44]'),\n",
              " Text(163.76667532371164, 152.208, 'X[13] <= -3.565\\ngini = 0.0\\nsamples = 162442\\nvalue = [162418, 24]'),\n",
              " Text(148.77377657403628, 143.5104, 'X[20] <= 6.144\\ngini = 0.017\\nsamples = 232\\nvalue = [230, 2]'),\n",
              " Text(145.5938411308574, 134.81279999999998, 'X[13] <= -3.567\\ngini = 0.009\\nsamples = 231\\nvalue = [230, 1]'),\n",
              " Text(142.41390568767855, 126.1152, 'gini = 0.0\\nsamples = 230\\nvalue = [230, 0]'),\n",
              " Text(148.77377657403628, 126.1152, 'gini = 0.0\\nsamples = 1\\nvalue = [0, 1]'),\n",
              " Text(151.95371201721514, 134.81279999999998, 'gini = 0.0\\nsamples = 1\\nvalue = [0, 1]'),\n",
              " Text(178.759574073387, 143.5104, 'X[7] <= -10.751\\ngini = 0.0\\nsamples = 162210\\nvalue = [162188, 22]'),\n",
              " Text(158.3135829035729, 134.81279999999998, 'X[18] <= 2.322\\ngini = 0.016\\nsamples = 250\\nvalue = [248, 2]'),\n",
              " Text(155.13364746039403, 126.1152, 'X[7] <= -10.766\\ngini = 0.008\\nsamples = 249\\nvalue = [248, 1]'),\n",
              " Text(151.95371201721514, 117.41760000000001, 'gini = 0.0\\nsamples = 248\\nvalue = [248, 0]'),\n",
              " Text(158.3135829035729, 117.41760000000001, 'gini = 0.0\\nsamples = 1\\nvalue = [0, 1]'),\n",
              " Text(161.49351834675176, 126.1152, 'gini = 0.0\\nsamples = 1\\nvalue = [0, 1]'),\n",
              " Text(199.20556524320114, 134.81279999999998, 'X[6] <= 2.785\\ngini = 0.0\\nsamples = 161960\\nvalue = [161940, 20]'),\n",
              " Text(174.9088709976626, 126.1152, 'X[19] <= -4.124\\ngini = 0.0\\nsamples = 160697\\nvalue = [160680, 17]'),\n",
              " Text(164.67345378993062, 117.41760000000001, 'X[19] <= -4.137\\ngini = 0.013\\nsamples = 150\\nvalue = [149, 1]'),\n",
              " Text(161.49351834675176, 108.72, 'gini = 0.0\\nsamples = 149\\nvalue = [149, 0]'),\n",
              " Text(167.85338923310948, 108.72, 'gini = 0.0\\nsamples = 1\\nvalue = [0, 1]'),\n",
              " Text(185.1442882053946, 117.41760000000001, 'X[13] <= -0.932\\ngini = 0.0\\nsamples = 160547\\nvalue = [160531, 16]'),\n",
              " Text(174.2132601194672, 108.72, 'X[13] <= -0.932\\ngini = 0.001\\nsamples = 17352\\nvalue = [17342, 10]'),\n",
              " Text(171.03332467628834, 100.0224, 'X[18] <= -2.187\\ngini = 0.001\\nsamples = 17351\\nvalue = [17342, 9]'),\n",
              " Text(164.67345378993062, 91.32480000000001, 'X[18] <= -2.194\\ngini = 0.028\\nsamples = 71\\nvalue = [70, 1]'),\n",
              " Text(161.49351834675176, 82.62720000000002, 'gini = 0.0\\nsamples = 70\\nvalue = [70, 0]'),\n",
              " Text(167.85338923310948, 82.62720000000002, 'gini = 0.0\\nsamples = 1\\nvalue = [0, 1]'),\n",
              " Text(177.3931955626461, 91.32480000000001, 'X[12] <= -0.148\\ngini = 0.001\\nsamples = 17280\\nvalue = [17272, 8]'),\n",
              " Text(174.2132601194672, 82.62720000000002, 'X[12] <= -0.148\\ngini = 0.002\\nsamples = 7110\\nvalue = [7102, 8]'),\n",
              " Text(171.03332467628834, 73.9296, 'X[15] <= 1.377\\ngini = 0.002\\nsamples = 7109\\nvalue = [7102, 7]'),\n",
              " Text(158.3135829035729, 65.232, 'X[3] <= 0.756\\ngini = 0.001\\nsamples = 6542\\nvalue = [6538, 4]'),\n",
              " Text(155.13364746039403, 56.534400000000005, 'gini = 0.0\\nsamples = 5033\\nvalue = [5033, 0]'),\n",
              " Text(161.49351834675176, 56.534400000000005, 'X[3] <= 0.757\\ngini = 0.005\\nsamples = 1509\\nvalue = [1505, 4]'),\n",
              " Text(158.3135829035729, 47.83680000000001, 'gini = 0.0\\nsamples = 1\\nvalue = [0, 1]'),\n",
              " Text(164.67345378993062, 47.83680000000001, 'X[21] <= -1.013\\ngini = 0.004\\nsamples = 1508\\nvalue = [1505, 3]'),\n",
              " Text(158.3135829035729, 39.13920000000002, 'X[21] <= -1.018\\ngini = 0.105\\nsamples = 18\\nvalue = [17, 1]'),\n",
              " Text(155.13364746039403, 30.441599999999994, 'gini = 0.0\\nsamples = 17\\nvalue = [17, 0]'),\n",
              " Text(161.49351834675176, 30.441599999999994, 'gini = 0.0\\nsamples = 1\\nvalue = [0, 1]'),\n",
              " Text(171.03332467628834, 39.13920000000002, 'X[14] <= 1.259\\ngini = 0.003\\nsamples = 1490\\nvalue = [1488, 2]'),\n",
              " Text(167.85338923310948, 30.441599999999994, 'gini = 0.0\\nsamples = 1293\\nvalue = [1293, 0]'),\n",
              " Text(174.2132601194672, 30.441599999999994, 'X[14] <= 1.267\\ngini = 0.02\\nsamples = 197\\nvalue = [195, 2]'),\n",
              " Text(171.03332467628834, 21.744, 'gini = 0.0\\nsamples = 1\\nvalue = [0, 1]'),\n",
              " Text(177.3931955626461, 21.744, 'X[0] <= 1.241\\ngini = 0.01\\nsamples = 196\\nvalue = [195, 1]'),\n",
              " Text(174.2132601194672, 13.046400000000006, 'gini = 0.0\\nsamples = 187\\nvalue = [187, 0]'),\n",
              " Text(180.57313100582496, 13.046400000000006, 'X[9] <= -0.574\\ngini = 0.198\\nsamples = 9\\nvalue = [8, 1]'),\n",
              " Text(177.3931955626461, 4.348800000000011, 'gini = 0.0\\nsamples = 8\\nvalue = [8, 0]'),\n",
              " Text(183.75306644900382, 4.348800000000011, 'gini = 0.0\\nsamples = 1\\nvalue = [0, 1]'),\n",
              " Text(183.75306644900382, 65.232, 'X[15] <= 1.378\\ngini = 0.011\\nsamples = 567\\nvalue = [564, 3]'),\n",
              " Text(180.57313100582496, 56.534400000000005, 'gini = 0.0\\nsamples = 1\\nvalue = [0, 1]'),\n",
              " Text(186.9330018921827, 56.534400000000005, 'X[18] <= 1.141\\ngini = 0.007\\nsamples = 566\\nvalue = [564, 2]'),\n",
              " Text(180.57313100582496, 47.83680000000001, 'X[23] <= 0.592\\ngini = 0.004\\nsamples = 550\\nvalue = [549, 1]'),\n",
              " Text(177.3931955626461, 39.13920000000002, 'gini = 0.0\\nsamples = 492\\nvalue = [492, 0]'),\n",
              " Text(183.75306644900382, 39.13920000000002, 'X[23] <= 0.593\\ngini = 0.034\\nsamples = 58\\nvalue = [57, 1]'),\n",
              " Text(180.57313100582496, 30.441599999999994, 'gini = 0.0\\nsamples = 1\\nvalue = [0, 1]'),\n",
              " Text(186.9330018921827, 30.441599999999994, 'gini = 0.0\\nsamples = 57\\nvalue = [57, 0]'),\n",
              " Text(193.2928727785404, 47.83680000000001, 'X[18] <= 1.192\\ngini = 0.117\\nsamples = 16\\nvalue = [15, 1]'),\n",
              " Text(190.11293733536155, 39.13920000000002, 'gini = 0.0\\nsamples = 1\\nvalue = [0, 1]'),\n",
              " Text(196.47280822171928, 39.13920000000002, 'gini = 0.0\\nsamples = 15\\nvalue = [15, 0]'),\n",
              " Text(177.3931955626461, 73.9296, 'gini = 0.0\\nsamples = 1\\nvalue = [0, 1]'),\n",
              " Text(180.57313100582496, 82.62720000000002, 'gini = 0.0\\nsamples = 10170\\nvalue = [10170, 0]'),\n",
              " Text(177.3931955626461, 100.0224, 'gini = 0.0\\nsamples = 1\\nvalue = [0, 1]'),\n",
              " Text(196.07531629132194, 108.72, 'X[18] <= -2.547\\ngini = 0.0\\nsamples = 143195\\nvalue = [143189, 6]'),\n",
              " Text(186.9330018921827, 100.0224, 'X[18] <= -2.549\\ngini = 0.006\\nsamples = 362\\nvalue = [361, 1]'),\n",
              " Text(183.75306644900382, 91.32480000000001, 'gini = 0.0\\nsamples = 361\\nvalue = [361, 0]'),\n",
              " Text(190.11293733536155, 91.32480000000001, 'gini = 0.0\\nsamples = 1\\nvalue = [0, 1]'),\n",
              " Text(205.21763069046116, 100.0224, 'X[25] <= -1.126\\ngini = 0.0\\nsamples = 142833\\nvalue = [142828, 5]'),\n",
              " Text(196.47280822171928, 91.32480000000001, 'X[25] <= -1.126\\ngini = 0.003\\nsamples = 679\\nvalue = [678, 1]'),\n",
              " Text(193.2928727785404, 82.62720000000002, 'gini = 0.0\\nsamples = 678\\nvalue = [678, 0]'),\n",
              " Text(199.65274366489817, 82.62720000000002, 'gini = 0.0\\nsamples = 1\\nvalue = [0, 1]'),\n",
              " Text(213.96245315920305, 91.32480000000001, 'X[18] <= 2.502\\ngini = 0.0\\nsamples = 142154\\nvalue = [142150, 4]'),\n",
              " Text(206.0126145512559, 82.62720000000002, 'X[15] <= -2.156\\ngini = 0.0\\nsamples = 141171\\nvalue = [141168, 3]'),\n",
              " Text(199.65274366489817, 73.9296, 'X[15] <= -2.156\\ngini = 0.001\\nsamples = 1978\\nvalue = [1977, 1]'),\n",
              " Text(196.47280822171928, 65.232, 'gini = 0.0\\nsamples = 1977\\nvalue = [1977, 0]'),\n",
              " Text(202.83267910807703, 65.232, 'gini = 0.0\\nsamples = 1\\nvalue = [0, 1]'),\n",
              " Text(212.37248543761362, 73.9296, 'X[13] <= -0.658\\ngini = 0.0\\nsamples = 139193\\nvalue = [139191, 2]'),\n",
              " Text(209.19254999443476, 65.232, 'X[13] <= -0.658\\ngini = 0.0\\nsamples = 9816\\nvalue = [9814, 2]'),\n",
              " Text(206.0126145512559, 56.534400000000005, 'X[13] <= -0.661\\ngini = 0.0\\nsamples = 9815\\nvalue = [9814, 1]'),\n",
              " Text(202.83267910807703, 47.83680000000001, 'gini = 0.0\\nsamples = 9713\\nvalue = [9713, 0]'),\n",
              " Text(209.19254999443476, 47.83680000000001, 'X[13] <= -0.661\\ngini = 0.019\\nsamples = 102\\nvalue = [101, 1]'),\n",
              " Text(206.0126145512559, 39.13920000000002, 'gini = 0.0\\nsamples = 1\\nvalue = [0, 1]'),\n",
              " Text(212.37248543761362, 39.13920000000002, 'gini = 0.0\\nsamples = 101\\nvalue = [101, 0]'),\n",
              " Text(212.37248543761362, 56.534400000000005, 'gini = 0.0\\nsamples = 1\\nvalue = [0, 1]'),\n",
              " Text(215.55242088079248, 65.232, 'gini = 0.0\\nsamples = 129377\\nvalue = [129377, 0]'),\n",
              " Text(221.91229176715024, 82.62720000000002, 'X[18] <= 2.502\\ngini = 0.002\\nsamples = 983\\nvalue = [982, 1]'),\n",
              " Text(218.73235632397135, 73.9296, 'gini = 0.0\\nsamples = 1\\nvalue = [0, 1]'),\n",
              " Text(225.0922272103291, 73.9296, 'gini = 0.0\\nsamples = 982\\nvalue = [982, 0]'),\n",
              " Text(223.50225948873967, 126.1152, 'X[6] <= 2.786\\ngini = 0.005\\nsamples = 1263\\nvalue = [1260, 3]'),\n",
              " Text(220.32232404556078, 117.41760000000001, 'gini = 0.0\\nsamples = 1\\nvalue = [0, 1]'),\n",
              " Text(226.68219493191853, 117.41760000000001, 'X[21] <= 1.786\\ngini = 0.003\\nsamples = 1262\\nvalue = [1260, 2]'),\n",
              " Text(220.32232404556078, 108.72, 'X[0] <= -0.759\\ngini = 0.002\\nsamples = 1232\\nvalue = [1231, 1]'),\n",
              " Text(217.1423886023819, 100.0224, 'gini = 0.0\\nsamples = 1142\\nvalue = [1142, 0]'),\n",
              " Text(223.50225948873967, 100.0224, 'X[0] <= -0.754\\ngini = 0.022\\nsamples = 90\\nvalue = [89, 1]'),\n",
              " Text(220.32232404556078, 91.32480000000001, 'gini = 0.0\\nsamples = 1\\nvalue = [0, 1]'),\n",
              " Text(226.68219493191853, 91.32480000000001, 'gini = 0.0\\nsamples = 89\\nvalue = [89, 0]'),\n",
              " Text(233.04206581827626, 108.72, 'X[21] <= 1.794\\ngini = 0.064\\nsamples = 30\\nvalue = [29, 1]'),\n",
              " Text(229.8621303750974, 100.0224, 'gini = 0.0\\nsamples = 1\\nvalue = [0, 1]'),\n",
              " Text(236.22200126145512, 100.0224, 'gini = 0.0\\nsamples = 29\\nvalue = [29, 0]'),\n",
              " Text(279.6976811486662, 152.208, 'X[3] <= 2.62\\ngini = 0.005\\nsamples = 7916\\nvalue = [7896, 20]'),\n",
              " Text(276.5177457054873, 143.5104, 'gini = 0.0\\nsamples = 1\\nvalue = [0, 1]'),\n",
              " Text(282.8776165918451, 143.5104, 'X[16] <= 1.521\\ngini = 0.005\\nsamples = 7915\\nvalue = [7896, 19]'),\n",
              " Text(253.2147812859422, 134.81279999999998, 'X[16] <= -2.021\\ngini = 0.003\\nsamples = 7549\\nvalue = [7538, 11]'),\n",
              " Text(239.40193670463398, 126.1152, 'X[16] <= -2.073\\ngini = 0.198\\nsamples = 9\\nvalue = [8, 1]'),\n",
              " Text(236.22200126145512, 117.41760000000001, 'gini = 0.0\\nsamples = 8\\nvalue = [8, 0]'),\n",
              " Text(242.58187214781285, 117.41760000000001, 'gini = 0.0\\nsamples = 1\\nvalue = [0, 1]'),\n",
              " Text(267.0276258672504, 126.1152, 'X[13] <= -2.301\\ngini = 0.003\\nsamples = 7540\\nvalue = [7530, 10]'),\n",
              " Text(248.9417430341706, 117.41760000000001, 'X[13] <= -2.319\\ngini = 0.054\\nsamples = 108\\nvalue = [105, 3]'),\n",
              " Text(245.76180759099174, 108.72, 'X[20] <= 0.01\\ngini = 0.037\\nsamples = 107\\nvalue = [105, 2]'),\n",
              " Text(242.58187214781285, 100.0224, 'gini = 0.0\\nsamples = 92\\nvalue = [92, 0]'),\n",
              " Text(248.9417430341706, 100.0224, 'X[0] <= 1.758\\ngini = 0.231\\nsamples = 15\\nvalue = [13, 2]'),\n",
              " Text(245.76180759099174, 91.32480000000001, 'gini = 0.0\\nsamples = 13\\nvalue = [13, 0]'),\n",
              " Text(252.12167847734946, 91.32480000000001, 'gini = 0.0\\nsamples = 2\\nvalue = [0, 2]'),\n",
              " Text(252.12167847734946, 108.72, 'gini = 0.0\\nsamples = 1\\nvalue = [0, 1]'),\n",
              " Text(285.1135087003302, 117.41760000000001, 'X[3] <= 5.617\\ngini = 0.002\\nsamples = 7432\\nvalue = [7425, 7]'),\n",
              " Text(270.40630727562797, 108.72, 'X[26] <= -2.46\\ngini = 0.001\\nsamples = 7330\\nvalue = [7325, 5]'),\n",
              " Text(261.66148480688605, 100.0224, 'X[15] <= -0.93\\ngini = 0.064\\nsamples = 30\\nvalue = [29, 1]'),\n",
              " Text(258.4815493637072, 91.32480000000001, 'gini = 0.0\\nsamples = 1\\nvalue = [0, 1]'),\n",
              " Text(264.8414202500649, 91.32480000000001, 'gini = 0.0\\nsamples = 29\\nvalue = [29, 0]'),\n",
              " Text(279.1511297443698, 100.0224, 'X[6] <= 1.294\\ngini = 0.001\\nsamples = 7300\\nvalue = [7296, 4]'),\n",
              " Text(271.20129113642264, 91.32480000000001, 'X[20] <= -1.328\\ngini = 0.001\\nsamples = 6802\\nvalue = [6800, 2]'),\n",
              " Text(264.8414202500649, 82.62720000000002, 'X[20] <= -1.333\\ngini = 0.014\\nsamples = 138\\nvalue = [137, 1]'),\n",
              " Text(261.66148480688605, 73.9296, 'gini = 0.0\\nsamples = 137\\nvalue = [137, 0]'),\n",
              " Text(268.0213556932438, 73.9296, 'gini = 0.0\\nsamples = 1\\nvalue = [0, 1]'),\n",
              " Text(277.56116202278037, 82.62720000000002, 'X[14] <= -2.72\\ngini = 0.0\\nsamples = 6664\\nvalue = [6663, 1]'),\n",
              " Text(274.3812265796015, 73.9296, 'X[14] <= -2.726\\ngini = 0.014\\nsamples = 141\\nvalue = [140, 1]'),\n",
              " Text(271.20129113642264, 65.232, 'gini = 0.0\\nsamples = 140\\nvalue = [140, 0]'),\n",
              " Text(277.56116202278037, 65.232, 'gini = 0.0\\nsamples = 1\\nvalue = [0, 1]'),\n",
              " Text(280.7410974659593, 73.9296, 'gini = 0.0\\nsamples = 6523\\nvalue = [6523, 0]'),\n",
              " Text(287.100968352317, 91.32480000000001, 'X[6] <= 1.295\\ngini = 0.008\\nsamples = 498\\nvalue = [496, 2]'),\n",
              " Text(283.92103290913815, 82.62720000000002, 'gini = 0.0\\nsamples = 1\\nvalue = [0, 1]'),\n",
              " Text(290.2809037954959, 82.62720000000002, 'X[0] <= 0.196\\ngini = 0.004\\nsamples = 497\\nvalue = [496, 1]'),\n",
              " Text(287.100968352317, 73.9296, 'gini = 0.0\\nsamples = 476\\nvalue = [476, 0]'),\n",
              " Text(293.46083923867474, 73.9296, 'X[0] <= 0.203\\ngini = 0.091\\nsamples = 21\\nvalue = [20, 1]'),\n",
              " Text(290.2809037954959, 65.232, 'gini = 0.0\\nsamples = 1\\nvalue = [0, 1]'),\n",
              " Text(296.6407746818536, 65.232, 'gini = 0.0\\nsamples = 20\\nvalue = [20, 0]'),\n",
              " Text(299.82071012503246, 108.72, 'X[3] <= 5.626\\ngini = 0.038\\nsamples = 102\\nvalue = [100, 2]'),\n",
              " Text(296.6407746818536, 100.0224, 'gini = 0.0\\nsamples = 1\\nvalue = [0, 1]'),\n",
              " Text(303.0006455682113, 100.0224, 'X[28] <= 0.03\\ngini = 0.02\\nsamples = 101\\nvalue = [100, 1]'),\n",
              " Text(299.82071012503246, 91.32480000000001, 'X[7] <= 1.522\\ngini = 0.444\\nsamples = 3\\nvalue = [2, 1]'),\n",
              " Text(296.6407746818536, 82.62720000000002, 'gini = 0.0\\nsamples = 1\\nvalue = [0, 1]'),\n",
              " Text(303.0006455682113, 82.62720000000002, 'gini = 0.0\\nsamples = 2\\nvalue = [2, 0]'),\n",
              " Text(306.1805810113902, 91.32480000000001, 'gini = 0.0\\nsamples = 98\\nvalue = [98, 0]'),\n",
              " Text(312.5404518977479, 134.81279999999998, 'X[16] <= 1.523\\ngini = 0.043\\nsamples = 366\\nvalue = [358, 8]'),\n",
              " Text(309.36051645456905, 126.1152, 'gini = 0.0\\nsamples = 1\\nvalue = [0, 1]'),\n",
              " Text(315.7203873409268, 126.1152, 'X[3] <= 2.641\\ngini = 0.038\\nsamples = 365\\nvalue = [358, 7]'),\n",
              " Text(309.36051645456905, 117.41760000000001, 'X[3] <= 2.638\\ngini = 0.5\\nsamples = 2\\nvalue = [1, 1]'),\n",
              " Text(306.1805810113902, 108.72, 'gini = 0.0\\nsamples = 1\\nvalue = [1, 0]'),\n",
              " Text(312.5404518977479, 108.72, 'gini = 0.0\\nsamples = 1\\nvalue = [0, 1]'),\n",
              " Text(322.0802582272845, 117.41760000000001, 'X[0] <= 0.833\\ngini = 0.033\\nsamples = 363\\nvalue = [357, 6]'),\n",
              " Text(318.90032278410564, 108.72, 'gini = 0.0\\nsamples = 293\\nvalue = [293, 0]'),\n",
              " Text(325.2601936704634, 108.72, 'X[27] <= 0.072\\ngini = 0.157\\nsamples = 70\\nvalue = [64, 6]'),\n",
              " Text(322.0802582272845, 100.0224, 'X[18] <= -1.1\\ngini = 0.111\\nsamples = 68\\nvalue = [64, 4]'),\n",
              " Text(315.7203873409268, 91.32480000000001, 'X[21] <= 0.648\\ngini = 0.06\\nsamples = 65\\nvalue = [63, 2]'),\n",
              " Text(312.5404518977479, 82.62720000000002, 'X[11] <= 0.09\\ngini = 0.031\\nsamples = 64\\nvalue = [63, 1]'),\n",
              " Text(309.36051645456905, 73.9296, 'gini = 0.0\\nsamples = 62\\nvalue = [62, 0]'),\n",
              " Text(315.7203873409268, 73.9296, 'X[19] <= -0.194\\ngini = 0.5\\nsamples = 2\\nvalue = [1, 1]'),\n",
              " Text(312.5404518977479, 65.232, 'gini = 0.0\\nsamples = 1\\nvalue = [1, 0]'),\n",
              " Text(318.90032278410564, 65.232, 'gini = 0.0\\nsamples = 1\\nvalue = [0, 1]'),\n",
              " Text(318.90032278410564, 82.62720000000002, 'gini = 0.0\\nsamples = 1\\nvalue = [0, 1]'),\n",
              " Text(328.4401291136423, 91.32480000000001, 'X[8] <= -0.1\\ngini = 0.444\\nsamples = 3\\nvalue = [1, 2]'),\n",
              " Text(325.2601936704634, 82.62720000000002, 'gini = 0.0\\nsamples = 1\\nvalue = [1, 0]'),\n",
              " Text(331.62006455682115, 82.62720000000002, 'gini = 0.0\\nsamples = 2\\nvalue = [0, 2]'),\n",
              " Text(328.4401291136423, 100.0224, 'gini = 0.0\\nsamples = 2\\nvalue = [0, 2]')]"
            ]
          },
          "metadata": {
            "tags": []
          },
          "execution_count": 7
        },
        {
          "output_type": "display_data",
          "data": {
            "image/png": "[encoded data removed]",
            "text/plain": [
              "<Figure size 432x288 with 1 Axes>"
            ]
          },
          "metadata": {
            "tags": [],
            "needs_background": "light"
          }
        }
      ]
    },
    {
      "cell_type": "code",
      "metadata": {
        "id": "ikJMvwCNYL_s"
      },
      "source": [
        "feature_list = x2.columns"
      ],
      "execution_count": null,
      "outputs": []
    },
    {
      "cell_type": "code",
      "metadata": {
        "colab": {
          "base_uri": "https://localhost:8080/",
          "height": 349
        },
        "id": "qq94lsHbYL_s",
        "outputId": "f0b0d302-bd3a-4a35-be19-e5a38e73a976"
      },
      "source": [
        "x_values = np.arange(0,29)\n",
        "fig = plt.figure()\n",
        "ax = fig.add_axes([0,0,1,1])\n",
        "ax.bar(x_values,DT.feature_importances_, 0.25)\n",
        "ax.bar(x_values + 0.125,RF.feature_importances_, 0.25)\n",
        "ax.set_xticks(x_values)\n",
        "ax.set_xticklabels(feature_list, fontsize=6)\n",
        "plt.legend([\"Decision Tree\",\"Random Forest\"])"
      ],
      "execution_count": null,
      "outputs": [
        {
          "output_type": "execute_result",
          "data": {
            "text/plain": [
              "<matplotlib.legend.Legend at 0x7fa637e36c10>"
            ]
          },
          "metadata": {
            "tags": []
          },
          "execution_count": 9
        },
        {
          "output_type": "display_data",
          "data": {
            "image/png": "[encoded data removed]",
            "text/plain": [
              "<Figure size 432x288 with 1 Axes>"
            ]
          },
          "metadata": {
            "tags": [],
            "needs_background": "light"
          }
        }
      ]
    },
    {
      "cell_type": "code",
      "metadata": {
        "id": "eF7a8fJuYL_u",
        "outputId": "fdf31905-c401-444c-8794-8c7df6dd9551"
      },
      "source": [
        "print(DT.feature_importances_)"
      ],
      "execution_count": null,
      "outputs": [
        {
          "output_type": "stream",
          "text": [
            "[0.00828585 0.00566712 0.00557143 0.01758175 0.00611791 0.01132567\n",
            " 0.00341813 0.         0.00666386 0.07258094 0.0099368  0.01561359\n",
            " 0.00901901 0.08617854 0.01011693 0.0226787  0.54631476 0.02055891\n",
            " 0.0079155  0.00581201 0.02359447 0.02028757 0.00759536 0.00636406\n",
            " 0.00297571 0.02415146 0.02996036 0.00256412 0.01114947]\n"
          ],
          "name": "stdout"
        }
      ]
    },
    {
      "cell_type": "code",
      "metadata": {
        "id": "-eYPFTm_YL_u"
      },
      "source": [
        "x_values = 0.1* np.arange(1,10)\n",
        "DT_Accuracy_list = []\n",
        "RF_Accuracy_list = []"
      ],
      "execution_count": null,
      "outputs": []
    },
    {
      "cell_type": "code",
      "metadata": {
        "colab": {
          "base_uri": "https://localhost:8080/"
        },
        "id": "sLUViaDYYL_v",
        "outputId": "1b376e80-d0ef-4da6-a039-0a941c1ecdb5"
      },
      "source": [
        "from collections import Counter\n",
        "\n",
        "print(Counter(y_train))"
      ],
      "execution_count": null,
      "outputs": [
        {
          "output_type": "stream",
          "text": [
            "Counter({0: 170593, 1: 291})\n"
          ],
          "name": "stdout"
        }
      ]
    },
    {
      "cell_type": "markdown",
      "metadata": {
        "id": "8MQbexLOYL_w"
      },
      "source": [
        "Ratio of classes is too one sided so undersample or oversample here"
      ]
    },
    {
      "cell_type": "code",
      "metadata": {
        "colab": {
          "base_uri": "https://localhost:8080/"
        },
        "id": "VPpThcy4YL_x",
        "outputId": "cd678178-6a34-4688-b2b5-7481d3e0ed40"
      },
      "source": [
        "from imblearn.under_sampling import RandomUnderSampler\n",
        "from imblearn.over_sampling import RandomOverSampler\n",
        "\n",
        "ros = RandomOverSampler(sampling_strategy='minority')\n",
        "rus = RandomUnderSampler()\n",
        "\n",
        "x_trainunder,y_trainunder =  rus.fit_resample(x_train,y_train)\n",
        "x_trainover,y_trainover =  ros.fit_resample(x_train,y_train)\n",
        "\n",
        "print(Counter(y_trainunder))\n",
        "print(Counter(y_trainover))"
      ],
      "execution_count": null,
      "outputs": [
        {
          "output_type": "stream",
          "text": [
            "Counter({0: 291, 1: 291})\n",
            "Counter({0: 170593, 1: 170593})\n"
          ],
          "name": "stdout"
        },
        {
          "output_type": "stream",
          "text": [
            "/usr/local/lib/python3.7/dist-packages/sklearn/utils/deprecation.py:87: FutureWarning: Function safe_indexing is deprecated; safe_indexing is deprecated in version 0.22 and will be removed in version 0.24.\n",
            "  warnings.warn(msg, category=FutureWarning)\n",
            "/usr/local/lib/python3.7/dist-packages/sklearn/utils/deprecation.py:87: FutureWarning: Function safe_indexing is deprecated; safe_indexing is deprecated in version 0.22 and will be removed in version 0.24.\n",
            "  warnings.warn(msg, category=FutureWarning)\n"
          ],
          "name": "stderr"
        }
      ]
    },
    {
      "cell_type": "code",
      "metadata": {
        "colab": {
          "base_uri": "https://localhost:8080/"
        },
        "id": "s99Y_TynYL_y",
        "outputId": "548a2bd3-564f-4265-e2ee-b2b4b9d0bd45"
      },
      "source": [
        "DTunder = DecisionTreeClassifier()\n",
        "DTunder.fit(x_trainunder, y_trainunder)\n",
        "DTunder_Accuracy = DTunder.score(x_test, y_test)\n",
        "print(\"DT Under Sample Test Accuracy: {:.4f}\".format(DTunder_Accuracy*100))"
      ],
      "execution_count": null,
      "outputs": [
        {
          "output_type": "stream",
          "text": [
            "DT Under Sample Test Accuracy: 90.4444\n"
          ],
          "name": "stdout"
        }
      ]
    },
    {
      "cell_type": "code",
      "metadata": {
        "id": "RT188uvtYL_z",
        "outputId": "1817cefd-14c4-4582-d10d-6eb33af8b89c"
      },
      "source": [
        "DTover = DecisionTreeClassifier()\n",
        "DTover.fit(x_trainover, y_trainover)\n",
        "DTover_Accuracy = DTover.score(x_test, y_test)\n",
        "print(\"DT Over Sample Test Accuracy: {:.4f}\".format(DTover_Accuracy*100))"
      ],
      "execution_count": null,
      "outputs": [
        {
          "output_type": "stream",
          "text": [
            "DT Over Sample Test Accuracy: 99.9228\n"
          ],
          "name": "stdout"
        }
      ]
    },
    {
      "cell_type": "code",
      "metadata": {
        "colab": {
          "base_uri": "https://localhost:8080/"
        },
        "id": "QR-1XE6-YL_z",
        "outputId": "4641af3b-2540-4417-f020-32170278fd4a"
      },
      "source": [
        "RFunder = RandomForestClassifier()\n",
        "RFunder.fit(x_trainunder, y_trainunder)\n",
        "RFunder_Accuracy = RFunder.score(x_test, y_test)\n",
        "print(\"RF Under Sample Test Accuracy: {:.4f}\".format(RFunder_Accuracy*100))"
      ],
      "execution_count": null,
      "outputs": [
        {
          "output_type": "stream",
          "text": [
            "RF Under Sample Test Accuracy: 97.2086\n"
          ],
          "name": "stdout"
        }
      ]
    },
    {
      "cell_type": "code",
      "metadata": {
        "colab": {
          "base_uri": "https://localhost:8080/",
          "height": 349
        },
        "id": "4oV2kUpd1MCh",
        "outputId": "c529a2d6-7468-4d37-fe40-d83719988530"
      },
      "source": [
        "x_values = np.arange(0,29)\n",
        "fig = plt.figure()\n",
        "ax = fig.add_axes([0,0,1,1])\n",
        "ax.bar(x_values,DTunder.feature_importances_, 0.25)\n",
        "ax.bar(x_values + 0.125,RFunder.feature_importances_, 0.25)\n",
        "ax.set_xticks(x_values)\n",
        "ax.set_xticklabels(feature_list, fontsize=6)\n",
        "plt.legend([\"Decision Tree\",\"Random Forest\"])"
      ],
      "execution_count": null,
      "outputs": [
        {
          "output_type": "execute_result",
          "data": {
            "text/plain": [
              "<matplotlib.legend.Legend at 0x7ff9038fee90>"
            ]
          },
          "metadata": {
            "tags": []
          },
          "execution_count": 16
        },
        {
          "output_type": "display_data",
          "data": {
            "image/png": "[encoded data removed]",
            "text/plain": [
              "<Figure size 432x288 with 1 Axes>"
            ]
          },
          "metadata": {
            "tags": [],
            "needs_background": "light"
          }
        }
      ]
    },
    {
      "cell_type": "code",
      "metadata": {
        "id": "uTXxlEJuYL_0",
        "outputId": "49e09ace-a3f3-4102-ad38-3a42bbebe4d7"
      },
      "source": [
        "RFover = RandomForestClassifier()\n",
        "RFover.fit(x_trainover, y_trainover)\n",
        "RFover_Accuracy = RFover.score(x_test, y_test)\n",
        "print(\"RF Over Sample Test Accuracy: {:.4f}\".format(RFover_Accuracy*100))"
      ],
      "execution_count": null,
      "outputs": [
        {
          "output_type": "stream",
          "text": [
            "C:\\Users\\agbol\\Anaconda3\\lib\\site-packages\\sklearn\\ensemble\\forest.py:245: FutureWarning: The default value of n_estimators will change from 10 in version 0.20 to 100 in 0.22.\n",
            "  \"10 in version 0.20 to 100 in 0.22.\", FutureWarning)\n"
          ],
          "name": "stderr"
        },
        {
          "output_type": "stream",
          "text": [
            "RF Over Sample Test Accuracy: 99.9631\n"
          ],
          "name": "stdout"
        }
      ]
    },
    {
      "cell_type": "code",
      "metadata": {
        "id": "h49iIIbTYL_1"
      },
      "source": [
        "DTunder_Accuracy_list= []\n",
        "RFunder_Accuracy_list = []"
      ],
      "execution_count": null,
      "outputs": []
    },
    {
      "cell_type": "code",
      "metadata": {
        "id": "reoK93QoYL_2",
        "outputId": "7f1fc915-3671-455c-bc9c-3de5dc03a8ac"
      },
      "source": [
        "for num in range(1,10):\n",
        "    x_train, x_test, y_train, y_test = train_test_split(x, y, test_size= num/10)\n",
        "    x_trainunder,y_trainunder =  rus.fit_resample(x_train,y_train)\n",
        "    DT = DecisionTreeClassifier()\n",
        "    RF = RandomForestClassifier()\n",
        "    DT.fit(x_trainunder,y_trainunder)\n",
        "    RF.fit(x_trainunder,y_trainunder)\n",
        "    DTunder_Accuracy_list.append(DT.score(x_test, y_test))\n",
        "    RFunder_Accuracy_list.append(RF.score(x_test, y_test))"
      ],
      "execution_count": null,
      "outputs": [
        {
          "output_type": "stream",
          "text": [
            "C:\\Users\\agbol\\Anaconda3\\lib\\site-packages\\sklearn\\ensemble\\forest.py:245: FutureWarning: The default value of n_estimators will change from 10 in version 0.20 to 100 in 0.22.\n",
            "  \"10 in version 0.20 to 100 in 0.22.\", FutureWarning)\n",
            "C:\\Users\\agbol\\Anaconda3\\lib\\site-packages\\sklearn\\ensemble\\forest.py:245: FutureWarning: The default value of n_estimators will change from 10 in version 0.20 to 100 in 0.22.\n",
            "  \"10 in version 0.20 to 100 in 0.22.\", FutureWarning)\n",
            "C:\\Users\\agbol\\Anaconda3\\lib\\site-packages\\sklearn\\ensemble\\forest.py:245: FutureWarning: The default value of n_estimators will change from 10 in version 0.20 to 100 in 0.22.\n",
            "  \"10 in version 0.20 to 100 in 0.22.\", FutureWarning)\n",
            "C:\\Users\\agbol\\Anaconda3\\lib\\site-packages\\sklearn\\ensemble\\forest.py:245: FutureWarning: The default value of n_estimators will change from 10 in version 0.20 to 100 in 0.22.\n",
            "  \"10 in version 0.20 to 100 in 0.22.\", FutureWarning)\n",
            "C:\\Users\\agbol\\Anaconda3\\lib\\site-packages\\sklearn\\ensemble\\forest.py:245: FutureWarning: The default value of n_estimators will change from 10 in version 0.20 to 100 in 0.22.\n",
            "  \"10 in version 0.20 to 100 in 0.22.\", FutureWarning)\n",
            "C:\\Users\\agbol\\Anaconda3\\lib\\site-packages\\sklearn\\ensemble\\forest.py:245: FutureWarning: The default value of n_estimators will change from 10 in version 0.20 to 100 in 0.22.\n",
            "  \"10 in version 0.20 to 100 in 0.22.\", FutureWarning)\n",
            "C:\\Users\\agbol\\Anaconda3\\lib\\site-packages\\sklearn\\ensemble\\forest.py:245: FutureWarning: The default value of n_estimators will change from 10 in version 0.20 to 100 in 0.22.\n",
            "  \"10 in version 0.20 to 100 in 0.22.\", FutureWarning)\n",
            "C:\\Users\\agbol\\Anaconda3\\lib\\site-packages\\sklearn\\ensemble\\forest.py:245: FutureWarning: The default value of n_estimators will change from 10 in version 0.20 to 100 in 0.22.\n",
            "  \"10 in version 0.20 to 100 in 0.22.\", FutureWarning)\n",
            "C:\\Users\\agbol\\Anaconda3\\lib\\site-packages\\sklearn\\ensemble\\forest.py:245: FutureWarning: The default value of n_estimators will change from 10 in version 0.20 to 100 in 0.22.\n",
            "  \"10 in version 0.20 to 100 in 0.22.\", FutureWarning)\n"
          ],
          "name": "stderr"
        }
      ]
    },
    {
      "cell_type": "code",
      "metadata": {
        "id": "oQ7gswU7YL_3",
        "outputId": "05e7f6f0-5722-4a31-be96-212418d1934b"
      },
      "source": [
        "plt.plot(x_values,DTunder_Accuracy_list)\n",
        "plt.plot(x_values,RFunder_Accuracy_list)\n",
        "plt.xlabel(\"Test size (%)\")\n",
        "plt.ylabel(\"Accuracy (%)\")\n",
        "plt.legend([\"Decision Tree\",\"Random Forest\"])"
      ],
      "execution_count": null,
      "outputs": [
        {
          "output_type": "execute_result",
          "data": {
            "text/plain": [
              "<matplotlib.legend.Legend at 0x295420ac978>"
            ]
          },
          "metadata": {
            "tags": []
          },
          "execution_count": 26
        },
        {
          "output_type": "display_data",
          "data": {
            "image/png": "[encoded data removed]",
            "text/plain": [
              "<Figure size 432x288 with 1 Axes>"
            ]
          },
          "metadata": {
            "tags": [],
            "needs_background": "light"
          }
        }
      ]
    },
    {
      "cell_type": "code",
      "metadata": {
        "id": "50y5z61eYL_3",
        "outputId": "81546309-052f-43b4-83d0-c785b91e4ffc"
      },
      "source": [
        "plt.plot(x_values,DT_Accuracy_list)\n",
        "plt.plot(x_values,RF_Accuracy_list)\n",
        "plt.plot(x_values,DTunder_Accuracy_list)\n",
        "plt.plot(x_values,RFunder_Accuracy_list)\n",
        "plt.xlabel(\"Test size (%)\")\n",
        "plt.ylabel(\"Accuracy (%)\")\n",
        "plt.legend([\"Decision Tree\",\"Random Forest\",\"Decision Tree under\",\"Random Forest under\"])"
      ],
      "execution_count": null,
      "outputs": [
        {
          "output_type": "execute_result",
          "data": {
            "text/plain": [
              "<matplotlib.legend.Legend at 0x29541803240>"
            ]
          },
          "metadata": {
            "tags": []
          },
          "execution_count": 32
        },
        {
          "output_type": "display_data",
          "data": {
            "image/png": "[encoded data removed]",
            "text/plain": [
              "<Figure size 432x288 with 1 Axes>"
            ]
          },
          "metadata": {
            "tags": [],
            "needs_background": "light"
          }
        }
      ]
    },
    {
      "cell_type": "markdown",
      "metadata": {
        "id": "LYNUhGw8YL_4"
      },
      "source": [
        "## Agglomerative Clustering"
      ]
    },
    {
      "cell_type": "code",
      "metadata": {
        "id": "3LrjJOxAYL_5"
      },
      "source": [
        "from sklearn.cluster import AgglomerativeClustering\n",
        "import scipy.cluster.hierarchy as sch"
      ],
      "execution_count": null,
      "outputs": []
    },
    {
      "cell_type": "code",
      "metadata": {
        "id": "vAZ2BumtYL_5"
      },
      "source": [
        "X = pd.DataFrame([x2.iloc[:,16],x2.iloc[:,11]]).transpose()"
      ],
      "execution_count": null,
      "outputs": []
    },
    {
      "cell_type": "code",
      "metadata": {
        "id": "muESnGvPYL_6"
      },
      "source": [
        "x_train1,x_test1,y_train1,y_test1 = train_test_split(X,y, test_size= 0.9)\n",
        "x_subtest,x_subtest2,y_subtest1,y_subtest2 = train_test_split(x_test1,y_test1, test_size= 0.9)"
      ],
      "execution_count": null,
      "outputs": []
    },
    {
      "cell_type": "code",
      "metadata": {
        "id": "-LAyX8mCYL_6",
        "outputId": "2b9b0a91-083c-4334-a69b-e75ab759daba"
      },
      "source": [
        "dendrogram = sch.dendrogram(sch.linkage(x_train1, method = 'ward'))"
      ],
      "execution_count": null,
      "outputs": [
        {
          "output_type": "display_data",
          "data": {
            "image/png": "[encoded data removed]",
            "text/plain": [
              "<Figure size 432x288 with 1 Axes>"
            ]
          },
          "metadata": {
            "tags": [],
            "needs_background": "light"
          }
        }
      ]
    },
    {
      "cell_type": "code",
      "metadata": {
        "id": "fIkuY0mqYL_7"
      },
      "source": [
        "model = AgglomerativeClustering(n_clusters=2, affinity='euclidean', linkage='ward')\n",
        "model.fit(x_train1)\n",
        "labels = model.labels_"
      ],
      "execution_count": null,
      "outputs": []
    },
    {
      "cell_type": "code",
      "metadata": {
        "colab": {
          "base_uri": "https://localhost:8080/",
          "height": 522
        },
        "id": "npR5iUS2YL_8",
        "outputId": "7ea70136-0772-44bc-ba39-4d8b758c72c3"
      },
      "source": [
        "plt.scatter(np.array(x_train1)[labels==0, 0], np.array(x_train1)[labels==0, 1], s=50, marker='o', color='red')\n",
        "plt.scatter(np.array(x_train1)[labels==1, 0], np.array(x_train1)[labels==1, 1], s=50, marker='o', color='blue')\n",
        "plt.scatter(model.cluster_centers_[:,0],model.cluster_centers_[:,1],color = 'black')"
      ],
      "execution_count": null,
      "outputs": [
        {
          "output_type": "error",
          "ename": "AttributeError",
          "evalue": "ignored",
          "traceback": [
            "\u001b[0;31m---------------------------------------------------------------------------\u001b[0m",
            "\u001b[0;31mAttributeError\u001b[0m                            Traceback (most recent call last)",
            "\u001b[0;32m<ipython-input-92-f7736ed6ac79>\u001b[0m in \u001b[0;36m<module>\u001b[0;34m()\u001b[0m\n\u001b[1;32m      1\u001b[0m \u001b[0mplt\u001b[0m\u001b[0;34m.\u001b[0m\u001b[0mscatter\u001b[0m\u001b[0;34m(\u001b[0m\u001b[0mnp\u001b[0m\u001b[0;34m.\u001b[0m\u001b[0marray\u001b[0m\u001b[0;34m(\u001b[0m\u001b[0mx_train1\u001b[0m\u001b[0;34m)\u001b[0m\u001b[0;34m[\u001b[0m\u001b[0mlabels\u001b[0m\u001b[0;34m==\u001b[0m\u001b[0;36m0\u001b[0m\u001b[0;34m,\u001b[0m \u001b[0;36m0\u001b[0m\u001b[0;34m]\u001b[0m\u001b[0;34m,\u001b[0m \u001b[0mnp\u001b[0m\u001b[0;34m.\u001b[0m\u001b[0marray\u001b[0m\u001b[0;34m(\u001b[0m\u001b[0mx_train1\u001b[0m\u001b[0;34m)\u001b[0m\u001b[0;34m[\u001b[0m\u001b[0mlabels\u001b[0m\u001b[0;34m==\u001b[0m\u001b[0;36m0\u001b[0m\u001b[0;34m,\u001b[0m \u001b[0;36m1\u001b[0m\u001b[0;34m]\u001b[0m\u001b[0;34m,\u001b[0m \u001b[0ms\u001b[0m\u001b[0;34m=\u001b[0m\u001b[0;36m50\u001b[0m\u001b[0;34m,\u001b[0m \u001b[0mmarker\u001b[0m\u001b[0;34m=\u001b[0m\u001b[0;34m'o'\u001b[0m\u001b[0;34m,\u001b[0m \u001b[0mcolor\u001b[0m\u001b[0;34m=\u001b[0m\u001b[0;34m'red'\u001b[0m\u001b[0;34m)\u001b[0m\u001b[0;34m\u001b[0m\u001b[0;34m\u001b[0m\u001b[0m\n\u001b[1;32m      2\u001b[0m \u001b[0mplt\u001b[0m\u001b[0;34m.\u001b[0m\u001b[0mscatter\u001b[0m\u001b[0;34m(\u001b[0m\u001b[0mnp\u001b[0m\u001b[0;34m.\u001b[0m\u001b[0marray\u001b[0m\u001b[0;34m(\u001b[0m\u001b[0mx_train1\u001b[0m\u001b[0;34m)\u001b[0m\u001b[0;34m[\u001b[0m\u001b[0mlabels\u001b[0m\u001b[0;34m==\u001b[0m\u001b[0;36m1\u001b[0m\u001b[0;34m,\u001b[0m \u001b[0;36m0\u001b[0m\u001b[0;34m]\u001b[0m\u001b[0;34m,\u001b[0m \u001b[0mnp\u001b[0m\u001b[0;34m.\u001b[0m\u001b[0marray\u001b[0m\u001b[0;34m(\u001b[0m\u001b[0mx_train1\u001b[0m\u001b[0;34m)\u001b[0m\u001b[0;34m[\u001b[0m\u001b[0mlabels\u001b[0m\u001b[0;34m==\u001b[0m\u001b[0;36m1\u001b[0m\u001b[0;34m,\u001b[0m \u001b[0;36m1\u001b[0m\u001b[0;34m]\u001b[0m\u001b[0;34m,\u001b[0m \u001b[0ms\u001b[0m\u001b[0;34m=\u001b[0m\u001b[0;36m50\u001b[0m\u001b[0;34m,\u001b[0m \u001b[0mmarker\u001b[0m\u001b[0;34m=\u001b[0m\u001b[0;34m'o'\u001b[0m\u001b[0;34m,\u001b[0m \u001b[0mcolor\u001b[0m\u001b[0;34m=\u001b[0m\u001b[0;34m'blue'\u001b[0m\u001b[0;34m)\u001b[0m\u001b[0;34m\u001b[0m\u001b[0;34m\u001b[0m\u001b[0m\n\u001b[0;32m----> 3\u001b[0;31m \u001b[0mplt\u001b[0m\u001b[0;34m.\u001b[0m\u001b[0mscatter\u001b[0m\u001b[0;34m(\u001b[0m\u001b[0mmodel\u001b[0m\u001b[0;34m.\u001b[0m\u001b[0mcluster_centers_\u001b[0m\u001b[0;34m[\u001b[0m\u001b[0;34m:\u001b[0m\u001b[0;34m,\u001b[0m\u001b[0;36m0\u001b[0m\u001b[0;34m]\u001b[0m\u001b[0;34m,\u001b[0m\u001b[0mmodel\u001b[0m\u001b[0;34m.\u001b[0m\u001b[0mcluster_centers_\u001b[0m\u001b[0;34m[\u001b[0m\u001b[0;34m:\u001b[0m\u001b[0;34m,\u001b[0m\u001b[0;36m1\u001b[0m\u001b[0;34m]\u001b[0m\u001b[0;34m,\u001b[0m\u001b[0mcolor\u001b[0m \u001b[0;34m=\u001b[0m \u001b[0;34m'black'\u001b[0m\u001b[0;34m)\u001b[0m\u001b[0;34m\u001b[0m\u001b[0;34m\u001b[0m\u001b[0m\n\u001b[0m",
            "\u001b[0;31mAttributeError\u001b[0m: 'AgglomerativeClustering' object has no attribute 'cluster_centers_'"
          ]
        },
        {
          "output_type": "display_data",
          "data": {
            "image/png": "[encoded data removed]",
            "text/plain": [
              "<Figure size 432x288 with 1 Axes>"
            ]
          },
          "metadata": {
            "tags": [],
            "needs_background": "light"
          }
        }
      ]
    },
    {
      "cell_type": "code",
      "metadata": {
        "id": "v-3Nzy-6hZPb"
      },
      "source": [
        "from sklearn import metrics"
      ],
      "execution_count": null,
      "outputs": []
    },
    {
      "cell_type": "code",
      "metadata": {
        "id": "3ZN6tIiyYL_9"
      },
      "source": [
        "y_pred = model.fit_predict(x_subtest)\n",
        "contingency_matrix = metrics.cluster.contingency_matrix(y_subtest1, y_pred)"
      ],
      "execution_count": null,
      "outputs": []
    },
    {
      "cell_type": "code",
      "metadata": {
        "colab": {
          "base_uri": "https://localhost:8080/"
        },
        "id": "syeKVHiDhqey",
        "outputId": "bbe7ddec-7d73-403d-e5bd-0812b835bba0"
      },
      "source": [
        "print(contingency_matrix)"
      ],
      "execution_count": null,
      "outputs": [
        {
          "output_type": "stream",
          "text": [
            "[[18827  6766]\n",
            " [    8    31]]\n"
          ],
          "name": "stdout"
        }
      ]
    },
    {
      "cell_type": "code",
      "metadata": {
        "colab": {
          "base_uri": "https://localhost:8080/"
        },
        "id": "XN4nG4Lah_ks",
        "outputId": "a9027170-9e88-4f3a-da22-85ddb3e76b68"
      },
      "source": [
        "print((18827+31)/np.sum(contingency_matrix))"
      ],
      "execution_count": null,
      "outputs": [
        {
          "output_type": "stream",
          "text": [
            "0.7357209737827716\n"
          ],
          "name": "stdout"
        }
      ]
    },
    {
      "cell_type": "code",
      "metadata": {
        "id": "p_45a9_XjTtT"
      },
      "source": [
        "from sklearn.cluster import KMeans"
      ],
      "execution_count": null,
      "outputs": []
    },
    {
      "cell_type": "code",
      "metadata": {
        "colab": {
          "base_uri": "https://localhost:8080/"
        },
        "id": "ofJ5oEDWi4Pk",
        "outputId": "545be3b8-e93e-49fe-9f8d-aecc587e6d6d"
      },
      "source": [
        "model2 = KMeans(n_clusters=2)\n",
        "model2.fit(x_train1)"
      ],
      "execution_count": null,
      "outputs": [
        {
          "output_type": "execute_result",
          "data": {
            "text/plain": [
              "KMeans(algorithm='auto', copy_x=True, init='k-means++', max_iter=300,\n",
              "       n_clusters=2, n_init=10, n_jobs=None, precompute_distances='auto',\n",
              "       random_state=None, tol=0.0001, verbose=0)"
            ]
          },
          "metadata": {
            "tags": []
          },
          "execution_count": 58
        }
      ]
    },
    {
      "cell_type": "code",
      "metadata": {
        "id": "sjjALP_Ln7b3"
      },
      "source": [
        "label = model.labels_\n",
        "labels2 = model2.labels_"
      ],
      "execution_count": null,
      "outputs": []
    },
    {
      "cell_type": "code",
      "metadata": {
        "colab": {
          "base_uri": "https://localhost:8080/"
        },
        "id": "c9xDEtnqoj5k",
        "outputId": "a4d7fddd-bf6f-4660-b520-e3b467fa34e5"
      },
      "source": [
        "print(label.shape,labels2.shape)"
      ],
      "execution_count": null,
      "outputs": [
        {
          "output_type": "stream",
          "text": [
            "(25632,) (28480,)\n"
          ],
          "name": "stdout"
        }
      ]
    },
    {
      "cell_type": "code",
      "metadata": {
        "colab": {
          "base_uri": "https://localhost:8080/"
        },
        "id": "UysJE4Sgpfc4",
        "outputId": "a40c9d37-f67a-40ee-93eb-64aa3c713c61"
      },
      "source": [
        "np.array(x_train1)[labels==0]"
      ],
      "execution_count": null,
      "outputs": [
        {
          "output_type": "execute_result",
          "data": {
            "text/plain": [
              "array([[-0.45425802,  0.8477015 ],\n",
              "       [-0.94938323,  0.81460511],\n",
              "       [-0.33534977,  0.55813063],\n",
              "       ...,\n",
              "       [ 0.39544404, -0.29093474],\n",
              "       [ 0.28231035,  1.04797861],\n",
              "       [ 0.67842944,  0.68899904]])"
            ]
          },
          "metadata": {
            "tags": []
          },
          "execution_count": 61
        }
      ]
    },
    {
      "cell_type": "code",
      "metadata": {
        "colab": {
          "base_uri": "https://localhost:8080/",
          "height": 284
        },
        "id": "llMzxQ9wnylt",
        "outputId": "c5ea05ad-0064-4d9e-e154-9b769bdc31b7"
      },
      "source": [
        "plt.scatter(np.array(x_train1)[labels2==0, 0], np.array(x_train1)[labels2==0, 1], s=50, marker='o', color='red')\n",
        "plt.scatter(np.array(x_train1)[labels2==1, 0], np.array(x_train1)[labels2==1, 1], s=50, marker='o', color='blue')\n",
        "plt.scatter(model2.cluster_centers_[:,0],model2.cluster_centers_[:,1],color = 'black')"
      ],
      "execution_count": null,
      "outputs": [
        {
          "output_type": "execute_result",
          "data": {
            "text/plain": [
              "<matplotlib.collections.PathCollection at 0x7fa6d5ae9a50>"
            ]
          },
          "metadata": {
            "tags": []
          },
          "execution_count": 90
        },
        {
          "output_type": "display_data",
          "data": {
            "image/png": "[encoded data removed]",
            "text/plain": [
              "<Figure size 432x288 with 1 Axes>"
            ]
          },
          "metadata": {
            "tags": [],
            "needs_background": "light"
          }
        }
      ]
    },
    {
      "cell_type": "code",
      "metadata": {
        "id": "OFTfWQegjvgN"
      },
      "source": [
        "y_pred1 = model2.fit_predict(x_subtest)\n",
        "contingency_matrix2 = metrics.cluster.contingency_matrix(y_subtest1, y_pred1)"
      ],
      "execution_count": null,
      "outputs": []
    },
    {
      "cell_type": "code",
      "metadata": {
        "colab": {
          "base_uri": "https://localhost:8080/"
        },
        "id": "m0Nddnw4kZv_",
        "outputId": "5027becf-eb3b-4515-f26c-4154a060c888"
      },
      "source": [
        "print(model2.cluster_centers_)"
      ],
      "execution_count": null,
      "outputs": [
        {
          "output_type": "stream",
          "text": [
            "[[-0.174699    0.42113612]\n",
            " [ 0.47706815 -1.16106871]]\n"
          ],
          "name": "stdout"
        }
      ]
    },
    {
      "cell_type": "code",
      "metadata": {
        "colab": {
          "base_uri": "https://localhost:8080/"
        },
        "id": "EYkk3KVEj0YM",
        "outputId": "20a48cc0-d6e9-4e28-c8f0-eaa57bf05ba8"
      },
      "source": [
        "print(contingency_matrix2)"
      ],
      "execution_count": null,
      "outputs": [
        {
          "output_type": "stream",
          "text": [
            "[[ 6760 18833]\n",
            " [   34     5]]\n"
          ],
          "name": "stdout"
        }
      ]
    },
    {
      "cell_type": "code",
      "metadata": {
        "colab": {
          "base_uri": "https://localhost:8080/"
        },
        "id": "5oCiIUGGkBC9",
        "outputId": "54126aff-a55e-4c8e-9894-c0af95312f49"
      },
      "source": [
        "print((18835+34)/np.sum(contingency_matrix2))"
      ],
      "execution_count": null,
      "outputs": [
        {
          "output_type": "stream",
          "text": [
            "0.736150124843945\n"
          ],
          "name": "stdout"
        }
      ]
    },
    {
      "cell_type": "code",
      "metadata": {
        "colab": {
          "base_uri": "https://localhost:8080/"
        },
        "id": "2hWK0Scc1LEU",
        "outputId": "3855f623-e530-48da-a27e-8c4e08310912"
      },
      "source": [
        "model3 = KMeans(n_clusters = 2)\n",
        "model3.fit(x_train)"
      ],
      "execution_count": null,
      "outputs": [
        {
          "output_type": "execute_result",
          "data": {
            "text/plain": [
              "KMeans(algorithm='auto', copy_x=True, init='k-means++', max_iter=300,\n",
              "       n_clusters=2, n_init=10, n_jobs=None, precompute_distances='auto',\n",
              "       random_state=None, tol=0.0001, verbose=0)"
            ]
          },
          "metadata": {
            "tags": []
          },
          "execution_count": 79
        }
      ]
    },
    {
      "cell_type": "code",
      "metadata": {
        "id": "yXwqvSWJ2Isp"
      },
      "source": [
        "labels3 = model3.labels_"
      ],
      "execution_count": null,
      "outputs": []
    },
    {
      "cell_type": "code",
      "metadata": {
        "colab": {
          "base_uri": "https://localhost:8080/",
          "height": 282
        },
        "id": "NLwiF7MG2Rdv",
        "outputId": "24201c96-4a1d-41ef-86b4-982243d131cf"
      },
      "source": [
        "plt.scatter(np.array(x_train)[labels3==0, 0], np.array(x_train)[labels3==0, 1], s=50, marker='o', color='red')\n",
        "plt.scatter(np.array(x_train)[labels3==1, 0], np.array(x_train)[labels3==1, 1], s=50, marker='o', color='blue')\n",
        "plt.scatter(model3.cluster_centers_[:,0],model3.cluster_centers_[:,1],color = 'black')"
      ],
      "execution_count": null,
      "outputs": [
        {
          "output_type": "execute_result",
          "data": {
            "text/plain": [
              "<matplotlib.collections.PathCollection at 0x7fa6d5af72d0>"
            ]
          },
          "metadata": {
            "tags": []
          },
          "execution_count": 89
        },
        {
          "output_type": "display_data",
          "data": {
            "image/png": "[encoded data removed]",
            "text/plain": [
              "<Figure size 432x288 with 1 Axes>"
            ]
          },
          "metadata": {
            "tags": [],
            "needs_background": "light"
          }
        }
      ]
    },
    {
      "cell_type": "code",
      "metadata": {
        "id": "N5p0uJ1W2cKN"
      },
      "source": [
        "y_pred3 = model3.fit_predict(x_test)\n",
        "contingency_matrix3 = metrics.cluster.contingency_matrix(y_test, y_pred3)"
      ],
      "execution_count": null,
      "outputs": []
    },
    {
      "cell_type": "code",
      "metadata": {
        "colab": {
          "base_uri": "https://localhost:8080/"
        },
        "id": "yVQMXaLZ2q4G",
        "outputId": "8fe34905-8e47-4230-f4bd-82359f5592f4"
      },
      "source": [
        "print(contingency_matrix3)"
      ],
      "execution_count": null,
      "outputs": [
        {
          "output_type": "stream",
          "text": [
            "[[60904 52804]\n",
            " [  147    68]]\n"
          ],
          "name": "stdout"
        }
      ]
    },
    {
      "cell_type": "code",
      "metadata": {
        "colab": {
          "base_uri": "https://localhost:8080/"
        },
        "id": "qWSU1kG08J6y",
        "outputId": "764295ff-44d9-4e16-aef5-0b698aa52f97"
      },
      "source": [
        "print((68+60904)/np.sum(contingency_matrix3))"
      ],
      "execution_count": null,
      "outputs": [
        {
          "output_type": "stream",
          "text": [
            "0.5352036024332224\n"
          ],
          "name": "stdout"
        }
      ]
    },
    {
      "cell_type": "code",
      "metadata": {
        "colab": {
          "base_uri": "https://localhost:8080/"
        },
        "id": "1n4i4FDX2vmT",
        "outputId": "7155c82d-daa6-4a7d-9614-a118b8d30610"
      },
      "source": [
        "print((147+60904)/np.sum(contingency_matrix3))"
      ],
      "execution_count": null,
      "outputs": [
        {
          "output_type": "stream",
          "text": [
            "0.5358970532728247\n"
          ],
          "name": "stdout"
        }
      ]
    },
    {
      "cell_type": "code",
      "metadata": {
        "id": "N3PDRChy88zu"
      },
      "source": [
        "model4 = AgglomerativeClustering(n_clusters=2, affinity='euclidean', linkage='single')\n",
        "model4.fit(x_train)\n",
        "labels4 = model4.labels_"
      ],
      "execution_count": null,
      "outputs": []
    }
  ]
}